{
 "cells": [
  {
   "cell_type": "markdown",
   "metadata": {},
   "source": [
    "# Homework 3"
   ]
  },
  {
   "cell_type": "markdown",
   "metadata": {},
   "source": [
    "Your name:Sam Duran\n",
    "\n",
    "Your Andrew ID:sduran\n",
    "\n",
    "Collaborators (if none, say \\\"none\\\"; do *not* leave this blank):none"
   ]
  },
  {
   "cell_type": "markdown",
   "metadata": {},
   "source": [
    "# Part 1: Email spam classification [45 points]"
   ]
  },
  {
   "cell_type": "markdown",
   "metadata": {},
   "source": [
    "   - Get the data from: http://www.andrew.cmu.edu/user/georgech/preprocessed-enron-email-dataset.zip\n",
    "   - Unzip this into the same folder as this notebook, rename it to `email-data`\n",
    "   - The folder contains 3 subfolders:\n",
    "      - `ham` contains ham emails.\n",
    "      - `spam` contains spam emails.\n",
    "      - `testing` is a folder containing test emails for your classifier. The ham/spam label is in the filename.\n",
    "      \n",
    "**Important**: For this problem, do *not* use neural nets/deep nets."
   ]
  },
  {
   "cell_type": "markdown",
   "metadata": {},
   "source": [
    "### (a) Print the number of ham and spam emails [1 point]\n",
    " \n",
    "In addition to providing the code, respond to the following questions:\n",
    "\n",
    "   - Is this dataset imbalanced? Will this be problematic in training the model?\n",
    "   - If so, how would you address it? (You do *not* have to implement what you suggest here for later parts of the problem.)"
   ]
  },
  {
   "cell_type": "code",
   "execution_count": 134,
   "metadata": {},
   "outputs": [
    {
     "name": "stdout",
     "output_type": "stream",
     "text": [
      "count of emails in: ./email-data\\ham\n",
      "1500\n",
      "count of emails in: ./email-data\\spam\n",
      "3671\n",
      "count of emails in: ./email-data\\testing\n",
      "100\n"
     ]
    }
   ],
   "source": [
    "import os\n",
    "\n",
    "def email_count(directory):\n",
    "    doc_list = []\n",
    "    for filename in os.listdir(directory):\n",
    "        if filename.endswith('.txt'):\n",
    "            doc_list.append(filename)\n",
    "    return len(doc_list)\n",
    "\n",
    "dir_list = [x[0] for x in os.walk('./email-data')][1:]   \n",
    "\n",
    "for i in dir_list:\n",
    "    print(\"count of emails in: \" + i)\n",
    "    print(email_count(i))"
   ]
  },
  {
   "cell_type": "code",
   "execution_count": null,
   "metadata": {},
   "outputs": [],
   "source": [
    "# The data is imbalanced as there are more spam emails than ham emails. This can cause problems in classification problems \n",
    "# as many ML algorithms might just view the minority class as noise and mostly predict the majority class. I can resolve this\n",
    "# by oversampling the minority class and ensuring that the data is more balanced when training.   \n",
    "# Also, I might see what seems like a high accuracy number, but that simply reflects the distribution of the data\n",
    "# one way to combat this is ensure that I am always comparing my results to a baseline that reflects the \n",
    "# distribution of the data"
   ]
  },
  {
   "cell_type": "markdown",
   "metadata": {},
   "source": [
    "### (b) Construct the documents [4 points]\n",
    " \n",
    "   - Provided below is a function that returns a document present in a file given a fileName.\n",
    "   - The function performs some preprocessing to (1) remove punctuation, (2),(3) remove whitespace and (4) lowercase all words.\n",
    "   - Use this function to construct a list of documents.\n",
    "   - Also construct a list of document labels containing `1` for spam and `0` for ham."
   ]
  },
  {
   "cell_type": "code",
   "execution_count": 135,
   "metadata": {},
   "outputs": [],
   "source": [
    "import re\n",
    "import string\n",
    "import codecs\n",
    "\n",
    "def makeWordList(path):\n",
    "    \n",
    "    with codecs.open(path, \"r\", encoding='utf-8', errors='ignore') as f:\n",
    "        corpus_text = f.read()\n",
    "\n",
    "    for c in string.punctuation:\n",
    "        corpus_text = corpus_text.replace(c, \"\")  # -- (1)\n",
    "    \n",
    "    text = re.sub(r'\\S*\\d\\S*','',corpus_text) # -- (2)\n",
    "    text = re.sub(r'[^\\w\\s]','',text)         # -- (3)\n",
    "    \n",
    "    text = text.lower().split()           # -- (4)         \n",
    "    \n",
    "    li = []\n",
    "    for token in text:\n",
    "        li.append(token)\n",
    "\n",
    "    return \" \".join(li)"
   ]
  },
  {
   "cell_type": "code",
   "execution_count": 136,
   "metadata": {},
   "outputs": [],
   "source": [
    "data = []\n",
    "labels = []\n",
    "for (root,dirs,files) in os.walk('./email-data'):\n",
    "    for file in files:\n",
    "        if root == './email-data\\ham':\n",
    "            data.append([makeWordList(os.path.join(root,file))])\n",
    "            labels.append(1)\n",
    "        if root == './email-data\\spam':\n",
    "            data.append([makeWordList(os.path.join(root,file))])\n",
    "            labels.append(0)\n",
    "\n",
    "final = []\n",
    "for i in data:\n",
    "    final.append(i[0])"
   ]
  },
  {
   "cell_type": "markdown",
   "metadata": {},
   "source": [
    "### (c) Construct the document matrix `X` as a matrix of word frequencies [5 points]\n",
    "\n",
    "   - Use the `CountVectorizer` from scikit-learn.\n",
    "   - Set `min_df=50`; this drops words that don't occur in at least 50 documents.\n",
    "   - Set `stop_words=\"english\"` and `max_df=0.8` to filter out stop-words.\n",
    "   - Print the size of the vocabulary (number of unique words)"
   ]
  },
  {
   "cell_type": "code",
   "execution_count": 137,
   "metadata": {},
   "outputs": [
    {
     "name": "stdout",
     "output_type": "stream",
     "text": [
      "size of vocab\n"
     ]
    },
    {
     "data": {
      "text/plain": [
       "1680"
      ]
     },
     "execution_count": 137,
     "metadata": {},
     "output_type": "execute_result"
    }
   ],
   "source": [
    "from sklearn.feature_extraction.text import CountVectorizer\n",
    "\n",
    "tf_vectorizer = CountVectorizer(max_df=0.8,\n",
    "                                min_df=50,\n",
    "                                stop_words='english')\n",
    "tf = tf_vectorizer.fit_transform(final)\n",
    "\n",
    "print('size of vocab')\n",
    "tf.shape[1]"
   ]
  },
  {
   "cell_type": "markdown",
   "metadata": {},
   "source": [
    "### (d) k-NN and random forest: Hyperparameter selection [15 points]\n",
    "\n",
    "Now that you have your documents and labels as training data, you can perform 5-fold cross-validation to select the hyperparameters for different learning algorithms.\n",
    "\n",
    "The hyperparameter with the best performance averaged across 5 folds is chosen. Use the **weighted F1-score** as the evaluation metric (i.e., for the `f1_score` function imported from `sklearn.metrics`, be sure to use the parameter `average='weighted'`).\n",
    "\n",
    "   - k-NN: Select `k` from a range of values of your choice.\n",
    "   - Random forest: Select `max_features` **and** `min_samples_leaf` from a grid of your choice.\n",
    "\n",
    "Store each chosen hyperparameter as `best_k`, `best_C`, `best_max_features`, and `best_min_samples_leaf` respectively.\n",
    "\n",
    "Provided is some seed code for cross-validation that you may modify and reuse. Do not use the cross-validations score or grid-search functions from scikit-learn (you may use `KFold`)."
   ]
  },
  {
   "cell_type": "code",
   "execution_count": 138,
   "metadata": {},
   "outputs": [
    {
     "name": "stdout",
     "output_type": "stream",
     "text": [
      "Best hyperparameter setting (k-fold): 3\n",
      "Best hyperparameter setting (random forest): (41, 1)\n"
     ]
    }
   ],
   "source": [
    "from sklearn.model_selection import KFold\n",
    "from sklearn.neighbors import KNeighborsClassifier\n",
    "from sklearn.metrics import f1_score\n",
    "from sklearn.ensemble import RandomForestClassifier\n",
    "import warnings\n",
    "warnings.filterwarnings('ignore')\n",
    "\n",
    "num_folds = 5\n",
    "k_fold = KFold(num_folds,shuffle=True)\n",
    "hyperparameter_settings = [2,3,4,5,6,7,8]  # fill this with hyperparameter settings that you want to try\n",
    "\n",
    "best_hyperparam_setting = None\n",
    "best_cross_val_score = -np.inf  # assumes that a higher score is better\n",
    "for hyperparam_setting in hyperparameter_settings:\n",
    "    fold_scores = []\n",
    "    for proper_train_indices, val_indices in k_fold.split(tf):\n",
    "        proper_train_features = tf[proper_train_indices]\n",
    "        proper_train_labels = np.array(labels)[proper_train_indices]\n",
    "        val_features = tf[val_indices]\n",
    "        val_labels = np.array(labels)[val_indices]\n",
    "        \n",
    "        knn = KNeighborsClassifier(n_neighbors=hyperparam_setting)\n",
    "        knn.fit(proper_train_features,proper_train_labels)\n",
    "        pred = knn.predict(val_features)\n",
    "        score = f1_score(pred, val_labels)\n",
    "        fold_scores.append(score)\n",
    "    cross_val_score = np.mean(fold_scores)\n",
    "    if cross_val_score > best_cross_val_score:  # assumes that a higher score is better\n",
    "        best_cross_val_score = cross_val_score\n",
    "        best_hyperparam_setting = hyperparam_setting\n",
    "\n",
    "best_k = best_hyperparam_setting\n",
    "\n",
    "print('Best hyperparameter setting (k-fold):', best_hyperparam_setting)\n",
    "\n",
    "num_features = tf.shape[1]\n",
    "\n",
    "hyperparameter_settings = [(max_features, min_samples_leaf)\n",
    "                           for max_features in [int(np.ceil(np.sqrt(num_features) / 4)),\n",
    "                                                int(np.ceil(np.sqrt(num_features))),\n",
    "                                                int(np.ceil(np.sqrt(num_features) * 4))]\n",
    "                           for min_samples_leaf in [1, 2, 4, 8, 16]]  \n",
    "\n",
    "\n",
    "for hyperparameter_setting in hyperparameter_settings:\n",
    "    max_features, min_samples_leaf = hyperparameter_setting\n",
    "    fold_scores = []\n",
    "    for proper_train_indices, val_indices in k_fold.split(tf):\n",
    "        proper_train_features = tf[proper_train_indices]\n",
    "        proper_train_labels = np.array(labels)[proper_train_indices]\n",
    "        val_features = tf[val_indices]\n",
    "        val_labels = np.array(labels)[val_indices]\n",
    "        \n",
    "        classifier = RandomForestClassifier(max_features=max_features,\n",
    "                                            min_samples_leaf=min_samples_leaf)\n",
    "        \n",
    "        classifier.fit(proper_train_features, proper_train_labels)\n",
    "        pred = classifier.predict(val_features)\n",
    "        score = f1_score(pred, val_labels)\n",
    "        fold_scores.append(score)\n",
    "    cross_val_score = np.mean(fold_scores)\n",
    "    if cross_val_score > best_cross_val_score:  # assumes that a higher score is better\n",
    "        best_cross_val_score = cross_val_score\n",
    "        best_hyperparam_setting = (max_features, min_samples_leaf)\n",
    "        \n",
    "best_max_features = best_hyperparam_setting[0]\n",
    "best_min_samples_leaf = best_hyperparam_setting[1]\n",
    "        \n",
    "print('Best hyperparameter setting (random forest):', best_hyperparam_setting)"
   ]
  },
  {
   "cell_type": "markdown",
   "metadata": {},
   "source": [
    "### (e) Classifier testing: Precision-Recall and ROC curves [20 points]\n",
    "\n",
    "   - Use the best hyperparameters for each classifier from the previous question to **train** your classifiers on the training data.\n",
    "   - Use test emails to in the `testing` folder to **test** your classifiers and construct the plots below.\n",
    "\n",
    "Things to plot:\n",
    "\n",
    "   - Construct one plot containing 2 ROC curves, one for each classifier.\n",
    "   - In the legend of this plot, display the AUC for each classifier.\n",
    "   - Construct one plot containing 2 precision-recall curves, one for each classifier.\n",
    "   - In the legend of each plot, display the average precision for each classifier.\n",
    "\n",
    "Note that these plots are on the test data: you will have to read in this data, construct a document matrix and labels. Some words in the test data may not have been present in the training data: there are multiple ways to address this, briefly describe your approach.\n",
    "\n",
    "Things to answer:\n",
    "\n",
    "   - Of the ROC and Precision-Recall curves, which one would you use for this task and why?\n",
    "   - Which classifier is the best, according to your chosen curves?"
   ]
  },
  {
   "cell_type": "code",
   "execution_count": 178,
   "metadata": {},
   "outputs": [
    {
     "data": {
      "image/png": "[encoded data removed]",
      "text/plain": [
       "<Figure size 432x288 with 1 Axes>"
      ]
     },
     "metadata": {
      "needs_background": "light"
     },
     "output_type": "display_data"
    }
   ],
   "source": [
    "from sklearn.metrics import roc_curve\n",
    "import matplotlib.pyplot as plt\n",
    "from matplotlib.pyplot import imshow\n",
    "\n",
    "data = []\n",
    "labels = []\n",
    "test_mask = []\n",
    "train_mask = []\n",
    "for (root,dirs,files) in os.walk('./email-data'):\n",
    "    for file in files:\n",
    "        train_mask.append(root in ['./email-data\\spam','./email-data\\ham'])\n",
    "        test_mask.append(root not in ['./email-data\\spam','./email-data\\ham'])\n",
    "        if file[-8:] == 'spam.txt':\n",
    "            data.append([makeWordList(os.path.join(root,file))])\n",
    "            labels.append(0)\n",
    "        else:\n",
    "            data.append([makeWordList(os.path.join(root,file))])\n",
    "            labels.append(1)\n",
    "\n",
    "final = []\n",
    "for i in data:\n",
    "    final.append(i[0])\n",
    "\n",
    "tf_vectorizer = CountVectorizer(max_df=0.8,\n",
    "                                min_df=50,\n",
    "                                stop_words='english')\n",
    "\n",
    "tf = tf_vectorizer_test.fit_transform(final)\n",
    "tf = tf.todense()\n",
    "\n",
    "tf_train = tf[train_mask]\n",
    "tf_test = tf[test_mask]\n",
    "\n",
    "label_train = np.array(labels)[train_mask]\n",
    "label_test = np.array(labels)[test_mask]\n",
    "\n",
    "classifier = RandomForestClassifier(max_features=41,min_samples_leaf=1)\n",
    "classifier.fit(tf_train, label_train)\n",
    "\n",
    "knn = KNeighborsClassifier(n_neighbors=3)\n",
    "knn.fit(tf_train,label_train)\n",
    "\n",
    "\n",
    "y_score = classifier.predict_proba(tf_test)[:,1]\n",
    "fpr, tpr, thresholds = roc_curve(label_test, y_score, pos_label=1)\n",
    "auc = np.trapz(tpr, fpr)\n",
    "plt.plot(fpr, tpr, linestyle='-', alpha=0.5, label = 'Random Forest, AUC = ' + str(np.round(auc,2)))\n",
    "\n",
    "y_score = knn.predict_proba(tf_test)[:,1]\n",
    "fpr, tpr, thresholds = roc_curve(label_test, y_score, pos_label=1)\n",
    "auc = np.trapz(tpr, fpr)\n",
    "plt.plot(fpr, tpr, linestyle='-', alpha=0.5, label = 'KNN, AUC = ' + str(np.round(auc,2)))\n",
    "\n",
    "\n",
    "plt.title(\"ROC curve\")\n",
    "plt.legend(loc = \"best\")\n",
    "plt.xlabel(\"FPR\")\n",
    "plt.ylabel(\"TPR\")\n",
    "plt.grid()\n",
    "plt.show() \n"
   ]
  },
  {
   "cell_type": "markdown",
   "metadata": {},
   "source": [
    "To deal with mismatch in number of features. I created a new tf_vectorizor object with both train and test data, then used a mask to split train and test data up.   \n",
    "\n",
    "Random Forest seems to dominate KNN on ROC curve, would choose this approach over KNN"
   ]
  },
  {
   "cell_type": "markdown",
   "metadata": {},
   "source": [
    "# Part 2: Questionnaire [5 points]\n",
    "\n",
    "Please answer this questionnaire: https://forms.gle/2DEGoF5vRSo8hfQ96"
   ]
  }
 ],
 "metadata": {
  "kernelspec": {
   "display_name": "Python 3",
   "language": "python",
   "name": "python3"
  },
  "language_info": {
   "codemirror_mode": {
    "name": "ipython",
    "version": 3
   },
   "file_extension": ".py",
   "mimetype": "text/x-python",
   "name": "python",
   "nbconvert_exporter": "python",
   "pygments_lexer": "ipython3",
   "version": "3.7.6"
  }
 },
 "nbformat": 4,
 "nbformat_minor": 2
}
